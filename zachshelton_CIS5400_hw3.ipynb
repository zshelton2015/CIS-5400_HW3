{
 "cells": [
  {
   "cell_type": "code",
   "execution_count": 836,
   "outputs": [
    {
     "data": {
      "text/plain": "'\\n    write_csv(data_table)\\n\\n\\n# call the main function to run the program\\nmain()\\n\\n'"
     },
     "metadata": {},
     "output_type": "execute_result",
     "execution_count": 836
    }
   ],
   "source": [
    "#Cell one contains functions used to create SOU_data.csv\n",
    "#They are modified from functions given by Dr. Fitz\n",
    "\"\"\"\n",
    "\n",
    "from lxml import html , cssselect\n",
    "import dateparser\n",
    "import requests\n",
    "import json\n",
    "\n",
    "def get_html(url):\n",
    "    \"\"\"\n",
    "\"\"\"\n",
    "    This function extracts the html code from a url\n",
    "    :param url: \n",
    "    :return: html code from the web page referenced by url\n",
    "    \"\"\"\n",
    "\"\"\"\n",
    "    response = requests.get(url)  # get page data from server, block redirects\n",
    "    source_code = response.content  # get string of source code from response\n",
    "    return source_code\n",
    "\n",
    "\n",
    "def get_data_table(source_code):\n",
    "    \"\"\"\n",
    "\"\"\"\n",
    "    This function creates a 2-D list of the following fields:\n",
    "    [president_name, tenure, speech_link, speech_date, speech]\n",
    "    The speech_date and speech are currently left blank.\n",
    "    :param source_code: the html source code extracted from a url\n",
    "    :return: a 2-D Python list or table\n",
    "    \"\"\"\n",
    "\"\"\"\n",
    "    data_table = []\n",
    "    speech_table = None\n",
    "    trs = None\n",
    "    html_elem = html.document_fromstring(source_code)  # make HTML element object\n",
    "    tables = html_elem.cssselect(\"table\") # select the table element on the page\n",
    "\n",
    "    # if you find a table, initialize the speech table to the first table\n",
    "    if len(tables) > 0:\n",
    "        speech_table = tables[0]\n",
    "\n",
    "    # if you find the speech table, select its rows\n",
    "    if speech_table is not None:\n",
    "        trs = speech_table.cssselect(\"tr\")\n",
    "\n",
    "    # If you find rows in the table, go through each row\n",
    "    # and process the data. Skip the header row (start at row 1)\n",
    "    if trs is not None:\n",
    "        for i in range(1, len(trs)):\n",
    "            tr = trs[i]\n",
    "            tds = tr.cssselect(\"td\")\n",
    "            president_name = \"\"\n",
    "\n",
    "            # simple check to make sure the row has president name and speech url\n",
    "            if len(tds) == 12:\n",
    "                first_cell_data = tds[0].text_content().strip()\n",
    "                tenure = tds[1].text_content().strip()\n",
    "                # get the link element for the link to the speech\n",
    "                speech_link_elmnt = tds[2].cssselect(\"a\")\n",
    "                speech_link = \"\"\n",
    "                speech_date = \"\"\n",
    "                speech = \"\"\n",
    "\n",
    "                if len(first_cell_data) > 0:\n",
    "                    president_name = first_cell_data\n",
    "\n",
    "                if len(speech_link_elmnt) > 0:\n",
    "                    speech_link = speech_link_elmnt[0].get(\"href\")\n",
    "\n",
    "                if len(president_name) > 0 and len(speech_link) > 0:\n",
    "                    data_table.append([president_name, tenure, speech_link, speech_date, speech])\n",
    "    return data_table\n",
    "\n",
    "\n",
    "def scrape_data(url):\n",
    "    \"\"\"\n",
    "\"\"\"\n",
    "    :param url: the url to \n",
    "    :return: \n",
    "    \"\"\"\n",
    "\"\"\"\n",
    "    return get_data_table(get_html(url))\n",
    "\n",
    "def find_speech(data_table):\n",
    "    for data in data_table:\n",
    "        url = data[2]\n",
    "        html_elem = html.document_fromstring(get_html(url))\n",
    "        date_r = html_elem.find_class(\"field-docs-start-date-time\")\n",
    "        date = dateparser.parse(date_r[0].text_content())\n",
    "        val  = html_elem.find_class(\"field-docs-content\")\n",
    "        speech = val[0].text_content()\n",
    "        data[3] = date\n",
    "        data[4] =speech\n",
    "    return 0\n",
    "def write_csv(data_table):\n",
    "    f = open(\"SOU_data.csv\", 'w+')\n",
    "    for data in data_table:\n",
    "        for val in data:\n",
    "            if val != data[-1]:\n",
    "                f.write(\"%s, \" % str(val))\n",
    "            else:\n",
    "                f.write(\"%s\\n\" % str(val))\n",
    "    f.close()\n",
    "    return 0\n",
    "\n",
    "def main():\n",
    "    url = \"https://www.presidency.ucsb.edu/\" \\\n",
    "          \"documents/presidential-documents-archive-guidebook/\" \\\n",
    "          \"annual-messages-congress-the-state-the-union\"\n",
    "    data_table = scrape_data(url)\n",
    "    find_speech(data_table)\n",
    "    \"\"\"\n",
    "\"\"\"\n",
    "    Two for loops writes values to .c\n",
    "    \"\"\"\n",
    "\"\"\"\n",
    "    write_csv(data_table)\n",
    "\n",
    "\n",
    "# call the main function to run the program\n",
    "main()\n",
    "\n",
    "\"\"\""
   ],
   "metadata": {
    "collapsed": false,
    "pycharm": {
     "name": "#%%\n",
     "is_executing": false
    }
   }
  },
  {
   "cell_type": "code",
   "execution_count": 837,
   "outputs": [
    {
     "name": "stdout",
     "text": [
      "Name                     Tenure      Speech Date     Excerpt                   \n",
      "Donald J. Trump          2017-pres.  2017-02-28      Thank you very much. Mr. S\n",
      "Barack Obama             2013-2017   2013-02-12      Please, everybody, have a \n",
      "George W. Bush           2005-2009   2005-02-02      Mr. Speaker, Vice Presiden\n",
      "William J. Clinton       1997-2001   1997-02-04      Mr. Speaker, Mr. Vice Pres\n",
      "George Bush              1989-1993   1989-02-09      Mr. Speaker, Mr. President\n",
      "Ronald Reagan            1985-1989   1985-02-06      Mr. Speaker, Mr. President\n",
      "Lyndon B. Johnson        1965-1969   1965-01-04      Mr. Speaker, Mr. President\n",
      "John F. Kennedy          1961-1963   1961-01-30      [As delivered in person be\n",
      "Dwight D. Eisenhower     1957-1961   1957-01-10      To the Congress of the Uni\n",
      "Harry S Truman           1949-1953   1949-01-05      Mr. President, Mr. Speaker\n",
      "Franklin D. Roosevelt    1945        1945-01-06      Today, in pursuance of my \n",
      "Warren G. Harding        1921-1923   1921-12-06      MR. SPEAKER AND MEMBERS OF\n",
      "Woodrow Wilson           1917-1921   1917-12-04      Gentlemen of the Congress:\n",
      "John Adams               1797-1801   1797-11-22      Gentlemen of the Senate an\n",
      "George Washington        1793-1797   1793-12-03      Fellow-Citizens of the Sen\n"
     ],
     "output_type": "stream"
    }
   ],
   "source": [
    "import json\n",
    "f = open(\"SOU_data.txt\",\"r\")\n",
    "data_table =json.load(f)\n",
    "output_string = \"{:<25}{:<12}{:<12}{:<30}\"\n",
    "print(output_string.format(\"Name\",\"Tenure\",\"Speech Date\",\"    Excerpt\"))\n",
    "for data in data_table:\n",
    "    print(output_string.format(data[0],data[1],data[3][0:10],data[4][0:30]))"
   ],
   "metadata": {
    "collapsed": false,
    "pycharm": {
     "name": "#%%\n",
     "is_executing": false
    }
   }
  },
  {
   "cell_type": "code",
   "execution_count": 838,
   "outputs": [
    {
     "data": {
      "text/plain": "'\\ncount_sentences(speech): Counts the number of sentences in text.\\ncount_words(speech): Counts the number of words in text.\\ncount_syllables(speech): Counts the number of syllables in text.\\ncompute_flesch_index(syllable_count, word_count, sentence_count): Computes the Flesch\\nIndex for the given numbers of sentences, words, and syllables.\\ncompute_grade_level(syllable_count, word_count, sentence_count):  Computes the Grade\\nLevel Equivalent for the given numbers of sentences, words, and syllables.\\nclassify_article_readability(flesch_index):  Returns the school/grade level in worded format \\nbased on Table 1\\n'"
     },
     "metadata": {},
     "output_type": "execute_result",
     "execution_count": 838
    }
   ],
   "source": [
    "'''\n",
    "count_sentences(speech): Counts the number of sentences in text.\n",
    "count_words(speech): Counts the number of words in text.\n",
    "count_syllables(speech): Counts the number of syllables in text.\n",
    "compute_flesch_index(syllable_count, word_count, sentence_count): Computes the Flesch\n",
    "Index for the given numbers of sentences, words, and syllables.\n",
    "compute_grade_level(syllable_count, word_count, sentence_count):  Computes the Grade\n",
    "Level Equivalent for the given numbers of sentences, words, and syllables.\n",
    "classify_article_readability(flesch_index):  Returns the school/grade level in worded format \n",
    "based on Table 1\n",
    "'''"
   ],
   "metadata": {
    "collapsed": false,
    "pycharm": {
     "name": "#%%\n",
     "is_executing": false
    }
   }
  },
  {
   "cell_type": "code",
   "execution_count": 839,
   "outputs": [],
   "source": [
    "import re\n",
    "def count_sentences(data):\n",
    "    speech = data\n",
    "    words = speech.split()\n",
    "    val=0\n",
    "    for word in words:\n",
    "        if word!= '' and word!='\\n':\n",
    "            if \".\" in word or \"?\" in word or \"!\" in word or \":\" in word or \";\" in word:\n",
    "                val= val+1\n",
    "    #print(\"Sentence is \" + str(val))\n",
    "    return val"
   ],
   "metadata": {
    "collapsed": false,
    "pycharm": {
     "name": "#%%\n",
     "is_executing": false
    }
   }
  },
  {
   "cell_type": "code",
   "execution_count": 840,
   "outputs": [],
   "source": [
    "def count_words(speech):\n",
    "    count = speech.split()\n",
    "    val = 0\n",
    "    for word in count:\n",
    "        if \".\" in word or \"?\" in word or \"!\" in word or \":\" in word or \";\" in word:\n",
    "            val= val+2\n",
    "        elif \"-\" in word:\n",
    "            val=val+2\n",
    "        else:\n",
    "            val=val+1\n",
    "    #print(\"Word is \" + str(val))\n",
    "    return val"
   ],
   "metadata": {
    "collapsed": false,
    "pycharm": {
     "name": "#%%\n",
     "is_executing": false
    }
   }
  },
  {
   "cell_type": "code",
   "execution_count": 841,
   "outputs": [],
   "source": [
    "def count_syllables(speech):\n",
    "    repeat=''\n",
    "    words = speech.split()\n",
    "    '''Looks for vowels, technically y could considered a syllable but is ignored here,\n",
    "     This should account for all words'''\n",
    "    vowels = ['a','e','i','o','u','y']\n",
    "    s_sum = 0\n",
    "    for word in words:\n",
    "        word.strip(' ')\n",
    "        count= 0\n",
    "        if len(word)!=0:\n",
    "            for val in word:\n",
    "                for vowel in vowels:\n",
    "                    if val==vowel:\n",
    "                        count=count+1\n",
    "            if word[-1]=='e' and word[-2]=='l':\n",
    "                count=count+1\n",
    "            if word[-1]=='e':\n",
    "                count = count-1\n",
    "            elif len(word)>=2 and word[-2]=='e' and word[-1]=='s':\n",
    "                count=count-1\n",
    "            elif len(word)>=2 and word[-2]=='e' and word[-1]=='d':\n",
    "                count=count-1\n",
    "            elif count==0:\n",
    "                count = count+1\n",
    "            s_sum = count+s_sum\n",
    "    #print(\"Syllable is \" + str(s_sum))\n",
    "    return s_sum\n",
    "#"
   ],
   "metadata": {
    "collapsed": false,
    "pycharm": {
     "name": "#%%\n",
     "is_executing": false
    }
   }
  },
  {
   "cell_type": "code",
   "execution_count": 842,
   "outputs": [],
   "source": [
    "def compute_flesch_index(syllable_count, word_count, sentence_count):\n",
    "    \"\"\"\n",
    "    print(word_count)\n",
    "    print(syllable_count)\n",
    "    print(sentence_count)\n",
    "    print(syll_per_word)\n",
    "    print(word_per_sentence)\n",
    "    print(round((.39*(word_per_sentence)+11.8*(syll_per_word) - 15.59),2))\n",
    "    \"\"\"\n",
    "    syll_per_word = (syllable_count/word_count)\n",
    "    word_per_sentence =(word_count/sentence_count)\n",
    "    ans=206.835-1.015*word_per_sentence-syll_per_word*84.6\n",
    "    return round(ans,2)\n",
    "def compute_grade_level(syllable_count, word_count, sentence_count):\n",
    "    syll_per_word = (syllable_count/word_count)\n",
    "    avg_sen_len =(word_count/sentence_count)\n",
    "    return round((.39*avg_sen_len)+(11.8*syll_per_word)-15.59)\n",
    "def classify_article_readability(level):\n",
    "    if 100 >= level > 90:\n",
    "        return \"5th Grade\"\n",
    "    elif 90 >= level > 80:\n",
    "        return \"6th Grade\"\n",
    "    elif 80 >= level > 70:\n",
    "        return \"7th Grade\"\n",
    "    elif 70 >= level > 60:\n",
    "        return \"8th & 9th Grade\"\n",
    "    elif 60 >= level >50:\n",
    "        return \"10th to 12th Grade\"\n",
    "    elif 50>= level >30:\n",
    "        return \"College\"\n",
    "    else:\n",
    "        return \"College\"\n",
    "    "
   ],
   "metadata": {
    "collapsed": false,
    "pycharm": {
     "name": "#%%\n",
     "is_executing": false
    }
   }
  },
  {
   "cell_type": "code",
   "execution_count": 843,
   "outputs": [
    {
     "name": "stdout",
     "text": [
      "Name                     Tenure      Speech Time     Excerpt                     Flesch     Grade Level #       Grade Level              \n",
      "Donald J. Trump          2017-pres.  2017-02-28      Thank you very much. Mr. S  56.96      10                  10th to 12th Grade       \n",
      "Barack Obama             2013-2017   2013-02-12      Please, everybody, have a   57.2       10                  10th to 12th Grade       \n",
      "George W. Bush           2005-2009   2005-02-02      Mr. Speaker, Vice Presiden  46.28      12                  College                  \n",
      "William J. Clinton       1997-2001   1997-02-04      Mr. Speaker, Mr. Vice Pres  57.37      10                  10th to 12th Grade       \n",
      "George Bush              1989-1993   1989-02-09      Mr. Speaker, Mr. President  62.9       8                   8th & 9th Grade          \n",
      "Ronald Reagan            1985-1989   1985-02-06      Mr. Speaker, Mr. President  51.71      10                  10th to 12th Grade       \n",
      "Lyndon B. Johnson        1965-1969   1965-01-04      Mr. Speaker, Mr. President  59.52      9                   10th to 12th Grade       \n",
      "John F. Kennedy          1961-1963   1961-01-30      [As delivered in person be  39.37      14                  College                  \n",
      "Dwight D. Eisenhower     1957-1961   1957-01-10      To the Congress of the Uni  37.59      13                  College                  \n",
      "Harry S Truman           1949-1953   1949-01-05      Mr. President, Mr. Speaker  45.33      11                  College                  \n",
      "Franklin D. Roosevelt    1945        1945-01-06      Today, in pursuance of my   49.89      12                  College                  \n",
      "Warren G. Harding        1921-1923   1921-12-06      MR. SPEAKER AND MEMBERS OF  34.01      15                  College                  \n",
      "Woodrow Wilson           1917-1921   1917-12-04      Gentlemen of the Congress:  51.64      13                  10th to 12th Grade       \n",
      "John Adams               1797-1801   1797-11-22      Gentlemen of the Senate an  29.35      17                  College                  \n",
      "George Washington        1793-1797   1793-12-03      Fellow-Citizens of the Sen  38.79      16                  College                  \n"
     ],
     "output_type": "stream"
    }
   ],
   "source": [
    "\"\"\"\n",
    "Combining Above Functions to add additional info to data_table\n",
    "\"\"\"\n",
    "for data in data_table:\n",
    "    data.append(compute_flesch_index(count_syllables(data[4]),count_words(data[4]),count_sentences(data[4])))\n",
    "    data.append(compute_grade_level(count_syllables(data[4]),count_words(data[4]),count_sentences(data[4])))\n",
    "    data.append(classify_article_readability(data[-2]))\n",
    "output_string = \"{:<25}{:<12}{:<12}{:<30}  {:<10} {:<20}{:<25}\"\n",
    "print(output_string.format(\"Name\",\"Tenure\",\"Speech Time\",\"    Excerpt\", \"Flesch\", \"Grade Level #\",\"Grade Level\",\"Grade\"))\n",
    "for data in data_table:\n",
    "    print(output_string.format(data[0],data[1],data[3][0:10],data[4][0:30],data[5],data[6],data[7]))"
   ],
   "metadata": {
    "collapsed": false,
    "pycharm": {
     "name": "#%%\n",
     "is_executing": false
    }
   }
  },
  {
   "cell_type": "code",
   "execution_count": 844,
   "outputs": [
    {
     "data": {
      "text/plain": "<BarContainer object of 15 artists>"
     },
     "metadata": {},
     "output_type": "execute_result",
     "execution_count": 844
    },
    {
     "data": {
      "text/plain": "<Figure size 432x288 with 1 Axes>",
      "image/png": "[encoded data removed]"
     },
     "metadata": {
      "needs_background": "light"
     },
     "output_type": "display_data"
    }
   ],
   "source": [
    "from matplotlib import pyplot as plt\n",
    "f_data = []\n",
    "f_names = []\n",
    "for data in data_table:\n",
    "    f_data.append(data[5])\n",
    "    f_names.append(data[0])\n",
    "fig,ax = plt.subplots()\n",
    "plt.xlabel(\"Flesch Index of SOU Data\")\n",
    "plt.ylabel(\"President\")\n",
    "plt.title(\"Flesch Index of SOU Addresses\")\n",
    "plt.barh(f_names,f_data, label = 'President Names')"
   ],
   "metadata": {
    "collapsed": false,
    "pycharm": {
     "name": "#%%\n",
     "is_executing": false
    }
   }
  }
 ],
 "metadata": {
  "kernelspec": {
   "display_name": "Python 3",
   "language": "python",
   "name": "python3"
  },
  "language_info": {
   "codemirror_mode": {
    "name": "ipython",
    "version": 2
   },
   "file_extension": ".py",
   "mimetype": "text/x-python",
   "name": "python",
   "nbconvert_exporter": "python",
   "pygments_lexer": "ipython2",
   "version": "2.7.6"
  },
  "pycharm": {
   "stem_cell": {
    "cell_type": "raw",
    "source": [],
    "metadata": {
     "collapsed": false
    }
   }
  }
 },
 "nbformat": 4,
 "nbformat_minor": 0
}