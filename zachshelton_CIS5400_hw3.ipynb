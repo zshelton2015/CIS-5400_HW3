{
 "cells": [
  {
   "cell_type": "code",
   "execution_count": 116,
   "outputs": [
    {
     "name": "stdout",
     "text": [
      "PROBLEM 1: GET THE DATA\n"
     ],
     "output_type": "stream"
    }
   ],
   "source": [
    "print(\"PROBLEM 1: GET THE DATA\")"
   ],
   "metadata": {
    "collapsed": false,
    "pycharm": {
     "name": "#%%\n",
     "is_executing": false
    }
   }
  },
  {
   "cell_type": "code",
   "execution_count": 117,
   "outputs": [],
   "source": [
    "###\n",
    "# This code is written by Dr. Fitz and modified by Zach Shelton\n",
    "# at Florida Institute of Technology.\n",
    "# Not For External Use\n",
    "\n",
    "import json\n",
    "import dateparser\n",
    "import requests\n",
    "from lxml import html\n",
    "from datetime import datetime as date\n",
    "\n",
    "#NOTE THIS CODE WAS RAN FROM A .PY saving to a SOU_data.txt for convenience,\n",
    "#USE in Notebook at your own risk.\n",
    "\n",
    "def get_html(url):\n",
    "    \"\"\"\n",
    "    This function extracts the html code from a url\n",
    "    :param url: \n",
    "    :return: html code from the web page referenced by url\n",
    "    \"\"\"\n",
    "    response = requests.get(url)  # get page data from server, block redirects\n",
    "    source_code = response.content  # get string of source code from response\n",
    "    return source_code\n",
    "\n",
    "\n",
    "def get_data_table(source_code):\n",
    "    \"\"\"\n",
    "    This function creates a 2-D list of the following fields:\n",
    "    [president_name, tenure, speech_link, speech_date, speech]\n",
    "    The speech_date and speech are currently left blank.\n",
    "    :param source_code: the html source code extracted from a url\n",
    "    :return: a 2-D Python list or table\n",
    "    \"\"\"\n",
    "    data_table = []\n",
    "    speech_table = None\n",
    "    trs = None\n",
    "    html_elem = html.document_fromstring(source_code)  # make HTML element object\n",
    "    tables = html_elem.cssselect(\"table\")  # select the table element on the page\n",
    "\n",
    "    # if you find a table, initialize the speech table to the first table\n",
    "    if len(tables) > 0:\n",
    "        speech_table = tables[0]\n",
    "\n",
    "    # if you find the speech table, select its rows\n",
    "    if speech_table is not None:\n",
    "        trs = speech_table.cssselect(\"tr\")\n",
    "\n",
    "    # If you find rows in the table, go through each row\n",
    "    # and process the data. Skip the header row (start at row 1)\n",
    "    if trs is not None:\n",
    "        for i in range(1, len(trs)):\n",
    "            tr = trs[i]\n",
    "            tds = tr.cssselect(\"td\")\n",
    "            president_name = \"\"\n",
    "\n",
    "            # simple check to make sure the row has president name and speech url\n",
    "            if len(tds) == 12:\n",
    "                first_cell_data = tds[0].text_content().strip()\n",
    "                tenure = tds[1].text_content().strip()\n",
    "                # get the link element for the link to the speech\n",
    "                speech_link_elmnt = tds[2].cssselect(\"a\")\n",
    "                speech_link = \"\"\n",
    "                speech_date = \"\"\n",
    "                speech = \"\"\n",
    "\n",
    "                if len(first_cell_data) > 0:\n",
    "                    president_name = first_cell_data\n",
    "\n",
    "                if len(speech_link_elmnt) > 0:\n",
    "                    speech_link = speech_link_elmnt[0].get(\"href\")\n",
    "\n",
    "                if len(president_name) > 0 and len(speech_link) > 0:\n",
    "                    data_table.append([president_name, tenure, speech_link, speech_date, speech])\n",
    "    return data_table\n",
    "\n",
    "\n",
    "def scrape_data(url):\n",
    "    \"\"\"\n",
    "    :param url: the url to \n",
    "    :return: \n",
    "    \"\"\"\n",
    "    return get_data_table(get_html(url))\n",
    "\n",
    "\n",
    "def find_speech_date(data_table):\n",
    "    \"\"\"\n",
    "    :param data_table\n",
    "    :return: Nothing\n",
    "    This function finds the date and speech content via the webpage in data[4] and a datetime string in\n",
    "    data[3](data = each row of data_table)\n",
    "    \"\"\"\n",
    "    for data in data_table:\n",
    "        url = data[2]\n",
    "        html_elem = html.document_fromstring(get_html(url))\n",
    "        date_r = html_elem.cssselect('[class=\"date-display-single\"]')\n",
    "        date_obj = dateparser.parse(date_r[0].get(\"content\"))\n",
    "        val = html_elem.cssselect('[class=\"field-docs-content\"]')\n",
    "        speech = val[0].text_content()\n",
    "        data[3] = date_obj.strftime('%x %X')\n",
    "        data[4] = speech.strip(\"  \")\n",
    "    return 0\n",
    "\n",
    "def clean_speech(data_table):\n",
    "    \"\"\"\n",
    "    :param data_table: \n",
    "    :return: cleaned speech data_table\n",
    "    This function cleans the speech of new line characters.\n",
    "    \"\"\"\n",
    "    for data in data_table:\n",
    "        speech = data[4]\n",
    "        lines = speech.splitlines()\n",
    "        n_speech = \"\"\n",
    "        for line in lines:\n",
    "            n_speech = n_speech + line\n",
    "        data[4] = \"\"\n",
    "        data[4] = n_speech\n",
    "    return data_table\n",
    "\n",
    "def write_txt(data_table):\n",
    "    \"\"\"\n",
    "    \n",
    "    :param data_table: \n",
    "    :return: N/A\n",
    "    Uses dump to save list and make it easier to grab again.\n",
    "    \"\"\"\n",
    "    f = open(\"SOU_data.txt\", 'w+')\n",
    "    json.dump(data_table, f)\n",
    "    f.close()\n",
    "    return 0\n",
    "\n",
    "\n",
    "def main():\n",
    "    \"\"\"\n",
    "    The main driver of the program.\n",
    "    It uses the base link to The American Presidency Project\n",
    "    at UC Santa Barbara to extract SOU addresses\n",
    "    \"\"\"\n",
    "    url = \"https://www.presidency.ucsb.edu/\" \\\n",
    "          \"documents/presidential-documents-archive-guidebook/\" \\\n",
    "          \"annual-messages-congress-the-state-the-union\"\n",
    "    data_table = scrape_data(url)\n",
    "    find_speech_date(data_table)\n",
    "    clean_speech(data_table)\n",
    "    write_txt(data_table)\n",
    "\n",
    "\n",
    "# call the main function to run the program\n",
    "main()"
   ],
   "metadata": {
    "collapsed": false,
    "pycharm": {
     "name": "#%%\n",
     "is_executing": false
    }
   }
  },
  {
   "cell_type": "code",
   "execution_count": 118,
   "outputs": [
    {
     "name": "stdout",
     "text": [
      "Name                     Tenure      Speech Time                  Excerpt                   \n",
      "Donald J. Trump          2017-pres.  02/28/17 21:09:00            Thank you very much. Mr. S\n",
      "Barack Obama             2013-2017   02/12/13 21:15:00            Please, everybody, have a \n",
      "George W. Bush           2005-2009   02/02/05 21:10:00            Mr. Speaker, Vice Presiden\n",
      "William J. Clinton       1997-2001   02/04/97 21:15:00            Mr. Speaker, Mr. Vice Pres\n",
      "George Bush              1989-1993   02/09/89 00:00:00            Mr. Speaker, Mr. President\n",
      "Ronald Reagan            1985-1989   02/06/85 21:05:00            Mr. Speaker, Mr. President\n",
      "Lyndon B. Johnson        1965-1969   01/04/65 21:04:00            Mr. Speaker, Mr. President\n",
      "John F. Kennedy          1961-1963   01/30/61 12:30:00            [As delivered in person be\n",
      "Dwight D. Eisenhower     1957-1961   01/10/57 00:00:00            To the Congress of the Uni\n",
      "Harry S Truman           1949-1953   01/05/49 13:00:00            Mr. President, Mr. Speaker\n",
      "Franklin D. Roosevelt    1945        01/06/45 00:00:00            Today, in pursuance of my \n",
      "Warren G. Harding        1921-1923   12/06/21 00:00:00            MR. SPEAKER AND MEMBERS OF\n",
      "Woodrow Wilson           1917-1921   12/04/17 00:00:00            Gentlemen of the Congress:\n",
      "John Adams               1797-1801   11/22/97 00:00:00            Gentlemen of the Senate an\n",
      "George Washington        1793-1797   12/03/93 00:00:00            Fellow-Citizens of the Sen\n"
     ],
     "output_type": "stream"
    }
   ],
   "source": [
    "#\n",
    "import json\n",
    "f = open(\"SOU_data.txt\",\"r\")\n",
    "data_table =json.load(f)\n",
    "output_string = \"{:<25}{:<12}{:<25}{:<30}\"\n",
    "print(output_string.format(\"Name\",\"Tenure\",\"Speech Time\",\"    Excerpt\"))\n",
    "for data in data_table:\n",
    "    print(output_string.format(data[0],data[1],data[3],data[4][0:30]))"
   ],
   "metadata": {
    "collapsed": false,
    "pycharm": {
     "name": "#%%\n",
     "is_executing": false
    }
   }
  },
  {
   "cell_type": "code",
   "execution_count": 119,
   "outputs": [
    {
     "name": "stdout",
     "text": [
      "PROBLEM 2: DATA ANALYSIS\n"
     ],
     "output_type": "stream"
    }
   ],
   "source": [
    "print(\"PROBLEM 2: DATA ANALYSIS\")"
   ],
   "metadata": {
    "collapsed": false,
    "pycharm": {
     "name": "#%%\n",
     "is_executing": false
    }
   }
  },
  {
   "cell_type": "code",
   "execution_count": 120,
   "outputs": [],
   "source": [
    "def count_sentences(data):\n",
    "    speech = data\n",
    "    words = speech.split()\n",
    "    val=0\n",
    "    for word in words:\n",
    "        if word!= '' and word!='\\n':\n",
    "            if \".\" in word or \"?\" in word or \"!\" in word or \":\" in word or \";\" in word:\n",
    "                val= val+1\n",
    "    return val\n",
    "\n",
    "def count_words(speech):\n",
    "    count = speech.split()\n",
    "    val = 0\n",
    "    for word in count:\n",
    "        if \".\" in word or \"?\" in word or \"!\" in word or \":\" in word or \";\" in word:\n",
    "            val= val+2\n",
    "        elif \"-\" in word:\n",
    "            val=val+2\n",
    "        else:\n",
    "            val=val+1\n",
    "    #print(\"Word is \" + str(val))\n",
    "    return val\n",
    "def count_syllables(speech):\n",
    "    repeat=''\n",
    "    words = speech.split()\n",
    "    '''Looks for vowels, technically y could considered a syllable but is ignored here,\n",
    "     This should account for all words'''\n",
    "    vowels = ['a','e','i','o','u','y']\n",
    "    s_sum = 0\n",
    "    for word in words:\n",
    "        word.strip(' ')\n",
    "        count= 0\n",
    "        if len(word)!=0:\n",
    "            for val in word:\n",
    "                for vowel in vowels:\n",
    "                    if val==vowel:\n",
    "                        count=count+1\n",
    "            if word[-1]=='e' and word[-2]=='l':\n",
    "                count=count+1\n",
    "            if word[-1]=='e':\n",
    "                count = count-1\n",
    "            elif len(word)>=2 and word[-2]=='e' and word[-1]=='s':\n",
    "                count=count-1\n",
    "            elif len(word)>=2 and word[-2]=='e' and word[-1]=='d':\n",
    "                count=count-1\n",
    "            elif count==0:\n",
    "                count = count+1\n",
    "            s_sum = count+s_sum\n",
    "    #print(\"Syllable is \" + str(s_sum))\n",
    "    return s_sum\n",
    "\n",
    "def compute_flesch_index(syllable_count, word_count, sentence_count):\n",
    "    syll_per_word = (syllable_count/word_count)\n",
    "    word_per_sentence =(word_count/sentence_count)\n",
    "    ans=206.835-1.015*word_per_sentence-syll_per_word*84.6\n",
    "    return round(ans,2)\n",
    "def compute_grade_level(syllable_count, word_count, sentence_count):\n",
    "    syll_per_word = (syllable_count/word_count)\n",
    "    avg_sen_len =(word_count/sentence_count)\n",
    "    return round((.39*avg_sen_len)+(11.8*syll_per_word)-15.59)\n",
    "def classify_article_readability(level):\n",
    "    if 100 >= level > 90:\n",
    "        return \"5th Grade\"\n",
    "    elif 90 >= level > 80:\n",
    "        return \"6th Grade\"\n",
    "    elif 80 >= level > 70:\n",
    "        return \"7th Grade\"\n",
    "    elif 70 >= level > 60:\n",
    "        return \"8th & 9th Grade\"\n",
    "    elif 60 >= level >50:\n",
    "        return \"10th to 12th Grade\"\n",
    "    elif 50>= level >30:\n",
    "        return \"College\"\n",
    "    else:\n",
    "        return \"College\"\n",
    "    "
   ],
   "metadata": {
    "collapsed": false,
    "pycharm": {
     "name": "#%%\n",
     "is_executing": false
    }
   }
  },
  {
   "cell_type": "code",
   "execution_count": 121,
   "outputs": [
    {
     "name": "stdout",
     "text": [
      "Name                     Tenure      Speech Time          Excerpt                     Flesch     Grade Level #  Grade Level            \n",
      "Donald J. Trump          2017-pres.  02/28/17 21:09:00    Thank you very much. Mr. S  56.96      10             10th to 12th Grade       \n",
      "Barack Obama             2013-2017   02/12/13 21:15:00    Please, everybody, have a   57.2       10             10th to 12th Grade       \n",
      "George W. Bush           2005-2009   02/02/05 21:10:00    Mr. Speaker, Vice Presiden  46.28      12             College                  \n",
      "William J. Clinton       1997-2001   02/04/97 21:15:00    Mr. Speaker, Mr. Vice Pres  57.37      10             10th to 12th Grade       \n",
      "George Bush              1989-1993   02/09/89 00:00:00    Mr. Speaker, Mr. President  62.9       8              8th & 9th Grade          \n",
      "Ronald Reagan            1985-1989   02/06/85 21:05:00    Mr. Speaker, Mr. President  51.71      10             10th to 12th Grade       \n",
      "Lyndon B. Johnson        1965-1969   01/04/65 21:04:00    Mr. Speaker, Mr. President  59.52      9              10th to 12th Grade       \n",
      "John F. Kennedy          1961-1963   01/30/61 12:30:00    [As delivered in person be  39.37      14             College                  \n",
      "Dwight D. Eisenhower     1957-1961   01/10/57 00:00:00    To the Congress of the Uni  37.59      13             College                  \n",
      "Harry S Truman           1949-1953   01/05/49 13:00:00    Mr. President, Mr. Speaker  45.33      11             College                  \n",
      "Franklin D. Roosevelt    1945        01/06/45 00:00:00    Today, in pursuance of my   49.89      12             College                  \n",
      "Warren G. Harding        1921-1923   12/06/21 00:00:00    MR. SPEAKER AND MEMBERS OF  34.01      15             College                  \n",
      "Woodrow Wilson           1917-1921   12/04/17 00:00:00    Gentlemen of the Congress:  51.64      13             10th to 12th Grade       \n",
      "John Adams               1797-1801   11/22/97 00:00:00    Gentlemen of the Senate an  29.35      17             College                  \n",
      "George Washington        1793-1797   12/03/93 00:00:00    Fellow-Citizens of the Sen  38.79      16             College                  \n"
     ],
     "output_type": "stream"
    }
   ],
   "source": [
    "\"\"\"\n",
    "Combining Above Functions to add additional info to data_table\n",
    "\"\"\"\n",
    "for data in data_table:\n",
    "    data.append(compute_flesch_index(count_syllables(data[4]),count_words(data[4]),count_sentences(data[4])))\n",
    "    data.append(compute_grade_level(count_syllables(data[4]),count_words(data[4]),count_sentences(data[4])))\n",
    "    data.append(classify_article_readability(data[-2]))\n",
    "output_string = \"{:<25}{:<12}{:<15}{:<30}  {:<10} {:<15}{:<25}\"\n",
    "print(output_string.format(\"Name\",\"Tenure\",\"Speech Time\",\"      Excerpt\", \"  Flesch\", \"  Grade Level #\",\"  Grade Level\",\"Grade\"))\n",
    "for data in data_table:\n",
    "    print(output_string.format(data[0],data[1],data[3],data[4][0:30],data[5],data[6],data[7]))"
   ],
   "metadata": {
    "collapsed": false,
    "pycharm": {
     "name": "#%%\n",
     "is_executing": false
    }
   }
  },
  {
   "cell_type": "code",
   "execution_count": 122,
   "outputs": [
    {
     "name": "stdout",
     "text": [
      "PROBLEM 3: Visualization\n"
     ],
     "output_type": "stream"
    }
   ],
   "source": [
    "print(\"PROBLEM 3: Visualization\")"
   ],
   "metadata": {
    "collapsed": false,
    "pycharm": {
     "name": "#%%\n",
     "is_executing": false
    }
   }
  },
  {
   "cell_type": "code",
   "execution_count": 123,
   "outputs": [
    {
     "data": {
      "text/plain": "<BarContainer object of 15 artists>"
     },
     "metadata": {},
     "output_type": "execute_result",
     "execution_count": 123
    },
    {
     "data": {
      "text/plain": "<Figure size 432x288 with 1 Axes>",
      "image/png": "[encoded data removed]"
     },
     "metadata": {
      "needs_background": "light"
     },
     "output_type": "display_data"
    }
   ],
   "source": [
    "from matplotlib import pyplot as plt\n",
    "f_data = []\n",
    "f_names = []\n",
    "for data in data_table:\n",
    "    f_data.append(data[5])\n",
    "    f_names.append(data[0])\n",
    "fig,ax = plt.subplots()\n",
    "plt.xlabel(\"Flesch Index of SOU Data\")\n",
    "plt.ylabel(\"Presidents\")\n",
    "plt.title(\"Flesch Index of Presidential SOU\")\n",
    "plt.barh(f_names,f_data, label = 'President Names')"
   ],
   "metadata": {
    "collapsed": false,
    "pycharm": {
     "name": "#%%\n",
     "is_executing": false
    }
   }
  }
 ],
 "metadata": {
  "kernelspec": {
   "display_name": "Python 3",
   "language": "python",
   "name": "python3"
  },
  "language_info": {
   "codemirror_mode": {
    "name": "ipython",
    "version": 2
   },
   "file_extension": ".py",
   "mimetype": "text/x-python",
   "name": "python",
   "nbconvert_exporter": "python",
   "pygments_lexer": "ipython2",
   "version": "2.7.6"
  },
  "pycharm": {
   "stem_cell": {
    "cell_type": "raw",
    "source": [],
    "metadata": {
     "collapsed": false
    }
   }
  }
 },
 "nbformat": 4,
 "nbformat_minor": 0
}